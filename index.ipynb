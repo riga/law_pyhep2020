{
 "cells": [
  {
   "cell_type": "markdown",
   "metadata": {},
   "source": [
    "![law logo](https://raw.githubusercontent.com/riga/law/master/logo.png)\n",
    "[riga/law](https://github.com/riga/law)"
   ]
  },
  {
   "cell_type": "markdown",
   "metadata": {
    "slideshow": {
     "slide_type": "slide"
    }
   },
   "source": [
    "## This is some slide\n"
   ]
  }
 ],
 "metadata": {
  "celltoolbar": "Slideshow",
  "kernelspec": {
   "display_name": "Python 3",
   "language": "python",
   "name": "python3"
  },
  "language_info": {
   "codemirror_mode": {
    "name": "ipython",
    "version": 3
   },
   "file_extension": ".py",
   "mimetype": "text/x-python",
   "name": "python",
   "nbconvert_exporter": "python",
   "pygments_lexer": "ipython3",
   "version": "3.7.6"
  },
  "rise": {
   "footer": "&nbsp;&nbsp; <b>PyHEP2020</b> | Marcel Rieger | <span style='color:#63cc10;'>luigi</span> <span style='color:#3c69a1;'>analysis workflow</span>",
   "theme": "simple",
   "controls": false,
   "slideNumber": "c",
   "scroll": false,
   "transition": "slide",
   "transitionSpeed": "fast"
  }
 },
 "nbformat": 4,
 "nbformat_minor": 2
}

