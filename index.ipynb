{
 "cells": [
  {
   "cell_type": "markdown",
   "metadata": {},
   "source": [
    "[![law logo](https://raw.githubusercontent.com/riga/law/master/logo.png)](https://github.com/riga/law)"
   ]
  },
  {
   "cell_type": "markdown",
   "metadata": {},
   "source": [
    "\n",
    "# law @ PyHEP2020"
   ]
  },
  {
   "cell_type": "markdown",
   "metadata": {},
   "source": [
    "There are multiple ways to setup and run this example:\n",
    "\n",
    "1. [Launch notebook on Binder](https://mybinder.org/v2/gh/riga/law/master?filepath=examples%2Fpyhep2020%2Findex.ipynb)\n",
    "2. [Static notebook on GitHub](https://github.com/riga/law/blob/master/examples/pyhep2020/index.ipynb)\n",
    "3. Docker: `docker run -ti riga/law:example pyhep2020`\n",
    "4. Local: `source setup.sh`"
   ]
  },
  {
   "cell_type": "code",
   "execution_count": 1,
   "metadata": {},
   "outputs": [
    {
     "name": "stdout",
     "output_type": "stream",
     "text": [
      "setup luigi\n",
      "Checking out files: 100% (140/140), done.\n",
      "Note: checking out 'tags/2.8.13'.\n",
      "\n",
      "You are in 'detached HEAD' state. You can look around, make experimental\n",
      "changes and commit them, and you can discard any commits you make in this\n",
      "state without impacting any branches by performing another checkout.\n",
      "\n",
      "If you want to create a new branch to retain commits you create, you may\n",
      "do so (now or later) by using -b with the checkout command again. Example:\n",
      "\n",
      "  git checkout -b <new-branch-name>\n",
      "\n",
      "HEAD is now at 54a34736 Version 2.8.13\n",
      "setup six\n",
      "setup scinum\n",
      "/usr/bin/env: ‘python’: No such file or directory\n",
      "/afs/cern.ch/user/m/mrieger/repos/law/examples/pyhep2020/setup.sh: line 37: : No such file or directory\n"
     ]
    },
    {
     "ename": "ModuleNotFoundError",
     "evalue": "No module named 'law'",
     "output_type": "error",
     "traceback": [
      "\u001b[0;31m---------------------------------------------------------------------------\u001b[0m",
      "\u001b[0;31mModuleNotFoundError\u001b[0m                       Traceback (most recent call last)",
      "\u001b[0;32m<ipython-input-1-f89ddf0fe377>\u001b[0m in \u001b[0;36m<module>\u001b[0;34m\u001b[0m\n\u001b[1;32m      1\u001b[0m \u001b[0mget_ipython\u001b[0m\u001b[0;34m(\u001b[0m\u001b[0;34m)\u001b[0m\u001b[0;34m.\u001b[0m\u001b[0msystem\u001b[0m\u001b[0;34m(\u001b[0m\u001b[0;34m' . `pwd`/setup.sh'\u001b[0m\u001b[0;34m)\u001b[0m\u001b[0;34m\u001b[0m\u001b[0;34m\u001b[0m\u001b[0m\n\u001b[0;32m----> 2\u001b[0;31m \u001b[0;32mimport\u001b[0m \u001b[0mlaw\u001b[0m\u001b[0;34m\u001b[0m\u001b[0;34m\u001b[0m\u001b[0m\n\u001b[0m\u001b[1;32m      3\u001b[0m \u001b[0mlaw\u001b[0m\u001b[0;34m.\u001b[0m\u001b[0mcontrib\u001b[0m\u001b[0;34m.\u001b[0m\u001b[0mload\u001b[0m\u001b[0;34m(\u001b[0m\u001b[0;34m\"ipython\"\u001b[0m\u001b[0;34m)\u001b[0m\u001b[0;34m\u001b[0m\u001b[0;34m\u001b[0m\u001b[0m\n\u001b[1;32m      4\u001b[0m \u001b[0mlaw\u001b[0m\u001b[0;34m.\u001b[0m\u001b[0mipython\u001b[0m\u001b[0;34m.\u001b[0m\u001b[0mregister_magics\u001b[0m\u001b[0;34m(\u001b[0m\u001b[0minit_cmd\u001b[0m\u001b[0;34m=\u001b[0m\u001b[0;34m\"source setup.sh\"\u001b[0m\u001b[0;34m,\u001b[0m \u001b[0mline_cmd\u001b[0m\u001b[0;34m=\u001b[0m\u001b[0;34m\"source setup.sh\"\u001b[0m\u001b[0;34m,\u001b[0m \u001b[0mlog_level\u001b[0m\u001b[0;34m=\u001b[0m\u001b[0;34m\"INFO\"\u001b[0m\u001b[0;34m)\u001b[0m\u001b[0;34m\u001b[0m\u001b[0;34m\u001b[0m\u001b[0m\n",
      "\u001b[0;31mModuleNotFoundError\u001b[0m: No module named 'law'"
     ]
    }
   ],
   "source": [
    "! . `pwd`/setup.sh\n",
    "import law\n",
    "law.contrib.load(\"ipython\")\n",
    "law.ipython.register_magics(init_cmd=\"source setup.sh\", line_cmd=\"source setup.sh\", log_level=\"INFO\")"
   ]
  },
  {
   "cell_type": "code",
   "execution_count": 2,
   "metadata": {},
   "outputs": [
    {
     "name": "stdout",
     "output_type": "stream",
     "text": [
      "indexing tasks in 1 module(s)\n",
      "loading module 'tasks', \u001b[1;49;39mdone\u001b[0m\n",
      "\n",
      "module '\u001b[1;49;39mtasks\u001b[0m', 4 task(s):\n",
      "    - \u001b[0;49;32mShowFrequencies\u001b[0m\n",
      "    - \u001b[0;49;32mFetchLoremIpsum\u001b[0m\n",
      "    - \u001b[0;49;32mCountChars\u001b[0m\n",
      "    - \u001b[0;49;32mMergeCounts\u001b[0m\n",
      "\n",
      "written 4 task(s) to index file '/law/examples/loremipsum/.law/index'\n"
     ]
    }
   ],
   "source": [
    "%law index --verbose"
   ]
  },
  {
   "cell_type": "code",
   "execution_count": 3,
   "metadata": {
    "collapsed": true
   },
   "outputs": [
    {
     "name": "stdout",
     "output_type": "stream",
     "text": [
      "tasks:ShowFrequencies:fetch-output log-file print-deps print-output print-status remove-output slow\n",
      "tasks:FetchLoremIpsum:fetch-output file-index log-file print-deps print-output print-status remove-output slow\n",
      "tasks:CountChars:fetch-output file-index log-file print-deps print-output print-status remove-output slow\n",
      "tasks:MergeCounts:fetch-output log-file print-deps print-output print-status remove-output slow\n",
      "\n"
     ]
    }
   ],
   "source": [
    "%law index --show"
   ]
  },
  {
   "cell_type": "code",
   "execution_count": 4,
   "metadata": {},
   "outputs": [
    {
     "name": "stdout",
     "output_type": "stream",
     "text": [
      "print task status with max_depth -1 and target_depth 0\n",
      "\n",
      "> check status of \u001b[0;49;32mShowFrequencies\u001b[0m(\u001b[1;49;34mslow\u001b[0m=False)\n",
      "|   \n",
      "|   > check status of \u001b[0;49;32mMergeCounts\u001b[0m(\u001b[1;49;34mslow\u001b[0m=False)\n",
      "|   |   - \u001b[0;49;36mLocalFileTarget\u001b[0m(\u001b[1;49;34mpath\u001b[0m=/law/examples/loremipsum/data/chars_merged.json)\n",
      "|   |     \u001b[1;49;31mabsent\u001b[0m\n",
      "|   |   \n",
      "|   |   > check status of \u001b[0;49;32mCountChars\u001b[0m(\u001b[1;49;34mfile_index\u001b[0m=1, \u001b[1;49;34mslow\u001b[0m=False)\n",
      "|   |   |   - \u001b[0;49;36mLocalFileTarget\u001b[0m(\u001b[1;49;34mpath\u001b[0m=/law/examples/loremipsum/data/chars_1.json)\n",
      "|   |   |     \u001b[1;49;31mabsent\u001b[0m\n",
      "|   |   |   \n",
      "|   |   |   > check status of \u001b[0;49;32mFetchLoremIpsum\u001b[0m(\u001b[1;49;34mfile_index\u001b[0m=1, \u001b[1;49;34mslow\u001b[0m=False)\n",
      "|   |   |   |   - \u001b[0;49;36mLocalFileTarget\u001b[0m(\u001b[1;49;34mpath\u001b[0m=/law/examples/loremipsum/data/loremipsum_1.txt)\n",
      "|   |   |   |     \u001b[1;49;31mabsent\u001b[0m\n",
      "|   |   \n",
      "|   |   > check status of \u001b[0;49;32mCountChars\u001b[0m(\u001b[1;49;34mfile_index\u001b[0m=2, \u001b[1;49;34mslow\u001b[0m=False)\n",
      "|   |   |   - \u001b[0;49;36mLocalFileTarget\u001b[0m(\u001b[1;49;34mpath\u001b[0m=/law/examples/loremipsum/data/chars_2.json)\n",
      "|   |   |     \u001b[1;49;31mabsent\u001b[0m\n",
      "|   |   |   \n",
      "|   |   |   > check status of \u001b[0;49;32mFetchLoremIpsum\u001b[0m(\u001b[1;49;34mfile_index\u001b[0m=2, \u001b[1;49;34mslow\u001b[0m=False)\n",
      "|   |   |   |   - \u001b[0;49;36mLocalFileTarget\u001b[0m(\u001b[1;49;34mpath\u001b[0m=/law/examples/loremipsum/data/loremipsum_2.txt)\n",
      "|   |   |   |     \u001b[1;49;31mabsent\u001b[0m\n",
      "|   |   \n",
      "|   |   > check status of \u001b[0;49;32mCountChars\u001b[0m(\u001b[1;49;34mfile_index\u001b[0m=3, \u001b[1;49;34mslow\u001b[0m=False)\n",
      "|   |   |   - \u001b[0;49;36mLocalFileTarget\u001b[0m(\u001b[1;49;34mpath\u001b[0m=/law/examples/loremipsum/data/chars_3.json)\n",
      "|   |   |     \u001b[1;49;31mabsent\u001b[0m\n",
      "|   |   |   \n",
      "|   |   |   > check status of \u001b[0;49;32mFetchLoremIpsum\u001b[0m(\u001b[1;49;34mfile_index\u001b[0m=3, \u001b[1;49;34mslow\u001b[0m=False)\n",
      "|   |   |   |   - \u001b[0;49;36mLocalFileTarget\u001b[0m(\u001b[1;49;34mpath\u001b[0m=/law/examples/loremipsum/data/loremipsum_3.txt)\n",
      "|   |   |   |     \u001b[1;49;31mabsent\u001b[0m\n",
      "|   |   \n",
      "|   |   > check status of \u001b[0;49;32mCountChars\u001b[0m(\u001b[1;49;34mfile_index\u001b[0m=4, \u001b[1;49;34mslow\u001b[0m=False)\n",
      "|   |   |   - \u001b[0;49;36mLocalFileTarget\u001b[0m(\u001b[1;49;34mpath\u001b[0m=/law/examples/loremipsum/data/chars_4.json)\n",
      "|   |   |     \u001b[1;49;31mabsent\u001b[0m\n",
      "|   |   |   \n",
      "|   |   |   > check status of \u001b[0;49;32mFetchLoremIpsum\u001b[0m(\u001b[1;49;34mfile_index\u001b[0m=4, \u001b[1;49;34mslow\u001b[0m=False)\n",
      "|   |   |   |   - \u001b[0;49;36mLocalFileTarget\u001b[0m(\u001b[1;49;34mpath\u001b[0m=/law/examples/loremipsum/data/loremipsum_4.txt)\n",
      "|   |   |   |     \u001b[1;49;31mabsent\u001b[0m\n",
      "|   |   \n",
      "|   |   > check status of \u001b[0;49;32mCountChars\u001b[0m(\u001b[1;49;34mfile_index\u001b[0m=5, \u001b[1;49;34mslow\u001b[0m=False)\n",
      "|   |   |   - \u001b[0;49;36mLocalFileTarget\u001b[0m(\u001b[1;49;34mpath\u001b[0m=/law/examples/loremipsum/data/chars_5.json)\n",
      "|   |   |     \u001b[1;49;31mabsent\u001b[0m\n",
      "|   |   |   \n",
      "|   |   |   > check status of \u001b[0;49;32mFetchLoremIpsum\u001b[0m(\u001b[1;49;34mfile_index\u001b[0m=5, \u001b[1;49;34mslow\u001b[0m=False)\n",
      "|   |   |   |   - \u001b[0;49;36mLocalFileTarget\u001b[0m(\u001b[1;49;34mpath\u001b[0m=/law/examples/loremipsum/data/loremipsum_5.txt)\n",
      "|   |   |   |     \u001b[1;49;31mabsent\u001b[0m\n",
      "|   |   \n",
      "|   |   > check status of \u001b[0;49;32mCountChars\u001b[0m(\u001b[1;49;34mfile_index\u001b[0m=6, \u001b[1;49;34mslow\u001b[0m=False)\n",
      "|   |   |   - \u001b[0;49;36mLocalFileTarget\u001b[0m(\u001b[1;49;34mpath\u001b[0m=/law/examples/loremipsum/data/chars_6.json)\n",
      "|   |   |     \u001b[1;49;31mabsent\u001b[0m\n",
      "|   |   |   \n",
      "|   |   |   > check status of \u001b[0;49;32mFetchLoremIpsum\u001b[0m(\u001b[1;49;34mfile_index\u001b[0m=6, \u001b[1;49;34mslow\u001b[0m=False)\n",
      "|   |   |   |   - \u001b[0;49;36mLocalFileTarget\u001b[0m(\u001b[1;49;34mpath\u001b[0m=/law/examples/loremipsum/data/loremipsum_6.txt)\n",
      "|   |   |   |     \u001b[1;49;31mabsent\u001b[0m\n"
     ]
    }
   ],
   "source": [
    "%law run ShowFrequencies --print-status -1"
   ]
  },
  {
   "cell_type": "markdown",
   "metadata": {},
   "source": [
    "You should see that all output targets are absent and no task is complete yet.\n",
    "\n",
    "Although `law run` was called, no task was actually executed. A few parameters will make law only print helpful information in the command line, such as the status of a certain task (`ShowFrequencies` above) and its **recursive** dependencies. The value given to `--print-status` defines the recursion level, where `0` is the task given to `law run` itself."
   ]
  },
  {
   "cell_type": "code",
   "execution_count": 5,
   "metadata": {},
   "outputs": [
    {
     "name": "stdout",
     "output_type": "stream",
     "text": [
      "print task status with max_depth 0 and target_depth 0\n",
      "\n",
      "> check status of \u001b[0;49;32mShowFrequencies\u001b[0m(\u001b[1;49;34mslow\u001b[0m=False)\n"
     ]
    }
   ],
   "source": [
    "%law run ShowFrequencies --print-status 0"
   ]
  },
  {
   "cell_type": "markdown",
   "metadata": {},
   "source": [
    "Other so-called *interactive* parameters are `--print-deps`, `--print-output`, `--fetch-output` and `--remove-output`. Use the help for find out more about these parameters. Note that the output of the cell below might be hidden."
   ]
  },
  {
   "cell_type": "code",
   "execution_count": 6,
   "metadata": {
    "collapsed": true
   },
   "outputs": [
    {
     "name": "stdout",
     "output_type": "stream",
     "text": [
      "usage: law run [--local-scheduler [CORE_LOCAL_SCHEDULER]] [--module CORE_MODULE]\n",
      "               [--help [CORE_HELP]] [--help-all [CORE_HELP_ALL]]\n",
      "               [--ShowFrequencies-log-file SHOWFREQUENCIES_LOG_FILE]\n",
      "               [--log-file LOG_FILE]\n",
      "               [--ShowFrequencies-print-deps SHOWFREQUENCIES_PRINT_DEPS]\n",
      "               [--print-deps PRINT_DEPS]\n",
      "               [--ShowFrequencies-print-status SHOWFREQUENCIES_PRINT_STATUS]\n",
      "               [--print-status PRINT_STATUS]\n",
      "               [--ShowFrequencies-print-output SHOWFREQUENCIES_PRINT_OUTPUT]\n",
      "               [--print-output PRINT_OUTPUT]\n",
      "               [--ShowFrequencies-remove-output SHOWFREQUENCIES_REMOVE_OUTPUT]\n",
      "               [--remove-output REMOVE_OUTPUT]\n",
      "               [--ShowFrequencies-fetch-output SHOWFREQUENCIES_FETCH_OUTPUT]\n",
      "               [--fetch-output FETCH_OUTPUT]\n",
      "               [--ShowFrequencies-slow [SHOWFREQUENCIES_SLOW]] [--slow [SLOW]]\n",
      "               [Required root task]\n",
      "\n",
      "positional arguments:\n",
      "  Required root task    Task family to run. Is not optional.\n",
      "\n",
      "optional arguments:\n",
      "  --local-scheduler [CORE_LOCAL_SCHEDULER]\n",
      "                        Use an in-memory central scheduler. Useful for\n",
      "                        testing.\n",
      "  --module CORE_MODULE  Used for dynamic loading of modules\n",
      "  --help [CORE_HELP]    Show most common flags and all task-specific flags\n",
      "  --help-all [CORE_HELP_ALL]\n",
      "                        Show all command line flags\n",
      "  --ShowFrequencies-log-file SHOWFREQUENCIES_LOG_FILE\n",
      "                        a custom log file, default: <task.default_log_file>\n",
      "  --log-file LOG_FILE   a custom log file, default: <task.default_log_file>\n",
      "  --ShowFrequencies-print-deps SHOWFREQUENCIES_PRINT_DEPS\n",
      "                        print task dependencies but do not run any task; this\n",
      "                        CSV parameter accepts a single integer value which\n",
      "                        sets the task recursion depth (0 means non-recursive)\n",
      "  --print-deps PRINT_DEPS\n",
      "                        print task dependencies but do not run any task; this\n",
      "                        CSV parameter accepts a single integer value which\n",
      "                        sets the task recursion depth (0 means non-recursive)\n",
      "  --ShowFrequencies-print-status SHOWFREQUENCIES_PRINT_STATUS\n",
      "                        print the task status but do not run any task; this\n",
      "                        CSV parameter accepts up to three values: 1. the task\n",
      "                        recursion depth (0 means non-recursive), 2. the depth\n",
      "                        of the status text of target collections (default: 0),\n",
      "                        3. a flag that is passed to the status text creation\n",
      "                        (default: '')\n",
      "  --print-status PRINT_STATUS\n",
      "                        print the task status but do not run any task; this\n",
      "                        CSV parameter accepts up to three values: 1. the task\n",
      "                        recursion depth (0 means non-recursive), 2. the depth\n",
      "                        of the status text of target collections (default: 0),\n",
      "                        3. a flag that is passed to the status text creation\n",
      "                        (default: '')\n",
      "  --ShowFrequencies-print-output SHOWFREQUENCIES_PRINT_OUTPUT\n",
      "                        print a flat list of output targets but do not run any\n",
      "                        task; this CSV parameter accepts a single integer\n",
      "                        value which sets the task recursion depth (0 means\n",
      "                        non-recursive\n",
      "  --print-output PRINT_OUTPUT\n",
      "                        print a flat list of output targets but do not run any\n",
      "                        task; this CSV parameter accepts a single integer\n",
      "                        value which sets the task recursion depth (0 means\n",
      "                        non-recursive\n",
      "  --ShowFrequencies-remove-output SHOWFREQUENCIES_REMOVE_OUTPUT\n",
      "                        remove task outputs but do not run any task; this CSV\n",
      "                        parameter accepts up to three values: 1. the task\n",
      "                        recursion depth (0 means non-recursive), 2. one of the\n",
      "                        modes 'i' (interactive), 'a' (all), 'd' (dry run)\n",
      "                        (default: 'i'), 3. a flag that decides whether outputs\n",
      "                        of external tasks should be removed (default: False)\n",
      "  --remove-output REMOVE_OUTPUT\n",
      "                        remove task outputs but do not run any task; this CSV\n",
      "                        parameter accepts up to three values: 1. the task\n",
      "                        recursion depth (0 means non-recursive), 2. one of the\n",
      "                        modes 'i' (interactive), 'a' (all), 'd' (dry run)\n",
      "                        (default: 'i'), 3. a flag that decides whether outputs\n",
      "                        of external tasks should be removed (default: False)\n",
      "  --ShowFrequencies-fetch-output SHOWFREQUENCIES_FETCH_OUTPUT\n",
      "                        copy all task outputs into a local directory but do\n",
      "                        not run any task; this CSV parameter accepts up to\n",
      "                        four values: 1. the task recursion depth (0 means non-\n",
      "                        recursive), 2. one of the modes 'i' (interactive), 'a'\n",
      "                        (all), 'd' (dry run) (default: 'i'), 3. the target\n",
      "                        directory (default: '.'), 4. a flag that decides\n",
      "                        whether outputs of external tasks should be fetched\n",
      "                        (default: False)\n",
      "  --fetch-output FETCH_OUTPUT\n",
      "                        copy all task outputs into a local directory but do\n",
      "                        not run any task; this CSV parameter accepts up to\n",
      "                        four values: 1. the task recursion depth (0 means non-\n",
      "                        recursive), 2. one of the modes 'i' (interactive), 'a'\n",
      "                        (all), 'd' (dry run) (default: 'i'), 3. the target\n",
      "                        directory (default: '.'), 4. a flag that decides\n",
      "                        whether outputs of external tasks should be fetched\n",
      "                        (default: False)\n",
      "  --ShowFrequencies-slow [SHOWFREQUENCIES_SLOW]\n",
      "                        before running, wait between 5 and 15 seconds\n",
      "  --slow [SLOW]         before running, wait between 5 and 15 seconds\n"
     ]
    }
   ],
   "source": [
    "%law run ShowFrequencies --help"
   ]
  },
  {
   "cell_type": "markdown",
   "metadata": {},
   "source": [
    "### 3. Run the ShowFrequencies task"
   ]
  },
  {
   "cell_type": "markdown",
   "metadata": {},
   "source": [
    "Now we run the task and all its dependencies with a single command."
   ]
  },
  {
   "cell_type": "code",
   "execution_count": 7,
   "metadata": {},
   "outputs": [
    {
     "name": "stdout",
     "output_type": "stream",
     "text": [
      "INFO: Informed scheduler that task   ShowFrequencies_False_9ba313c494   has status   PENDING\n",
      "INFO: Informed scheduler that task   MergeCounts_False_9ba313c494   has status   PENDING\n",
      "INFO: Informed scheduler that task   CountChars_6_False_d07face2c7   has status   PENDING\n",
      "INFO: Informed scheduler that task   FetchLoremIpsum_6_False_d07face2c7   has status   PENDING\n",
      "INFO: Informed scheduler that task   CountChars_5_False_675cf0b527   has status   PENDING\n",
      "INFO: Informed scheduler that task   FetchLoremIpsum_5_False_675cf0b527   has status   PENDING\n",
      "INFO: Informed scheduler that task   CountChars_4_False_c828a5a8e7   has status   PENDING\n",
      "INFO: Informed scheduler that task   FetchLoremIpsum_4_False_c828a5a8e7   has status   PENDING\n",
      "INFO: Informed scheduler that task   CountChars_3_False_21e31eaf1d   has status   PENDING\n",
      "INFO: Informed scheduler that task   FetchLoremIpsum_3_False_21e31eaf1d   has status   PENDING\n",
      "INFO: Informed scheduler that task   CountChars_2_False_5579299431   has status   PENDING\n",
      "INFO: Informed scheduler that task   FetchLoremIpsum_2_False_5579299431   has status   PENDING\n",
      "INFO: Informed scheduler that task   CountChars_1_False_50b924af96   has status   PENDING\n",
      "INFO: Informed scheduler that task   FetchLoremIpsum_1_False_50b924af96   has status   PENDING\n",
      "INFO: Done scheduling tasks\n",
      "INFO: Running Worker with 1 processes\n",
      "INFO: [pid 32184] Worker Worker(salt=032422033, workers=1, pid=32184) running   FetchLoremIpsum(file_index=6, slow=False)\n",
      "INFO: [pid 32184] Worker Worker(salt=032422033, workers=1, pid=32184) done      FetchLoremIpsum(file_index=6, slow=False)\n",
      "INFO: Informed scheduler that task   FetchLoremIpsum_6_False_d07face2c7   has status   DONE\n",
      "INFO: [pid 32184] Worker Worker(salt=032422033, workers=1, pid=32184) running   CountChars(file_index=6, slow=False)\n",
      "INFO: [pid 32184] Worker Worker(salt=032422033, workers=1, pid=32184) done      CountChars(file_index=6, slow=False)\n",
      "INFO: Informed scheduler that task   CountChars_6_False_d07face2c7   has status   DONE\n",
      "INFO: [pid 32184] Worker Worker(salt=032422033, workers=1, pid=32184) running   FetchLoremIpsum(file_index=5, slow=False)\n",
      "INFO: [pid 32184] Worker Worker(salt=032422033, workers=1, pid=32184) done      FetchLoremIpsum(file_index=5, slow=False)\n",
      "INFO: Informed scheduler that task   FetchLoremIpsum_5_False_675cf0b527   has status   DONE\n",
      "INFO: [pid 32184] Worker Worker(salt=032422033, workers=1, pid=32184) running   CountChars(file_index=5, slow=False)\n",
      "INFO: [pid 32184] Worker Worker(salt=032422033, workers=1, pid=32184) done      CountChars(file_index=5, slow=False)\n",
      "INFO: Informed scheduler that task   CountChars_5_False_675cf0b527   has status   DONE\n",
      "INFO: [pid 32184] Worker Worker(salt=032422033, workers=1, pid=32184) running   FetchLoremIpsum(file_index=4, slow=False)\n",
      "INFO: [pid 32184] Worker Worker(salt=032422033, workers=1, pid=32184) done      FetchLoremIpsum(file_index=4, slow=False)\n",
      "INFO: Informed scheduler that task   FetchLoremIpsum_4_False_c828a5a8e7   has status   DONE\n",
      "INFO: [pid 32184] Worker Worker(salt=032422033, workers=1, pid=32184) running   CountChars(file_index=4, slow=False)\n",
      "INFO: [pid 32184] Worker Worker(salt=032422033, workers=1, pid=32184) done      CountChars(file_index=4, slow=False)\n",
      "INFO: Informed scheduler that task   CountChars_4_False_c828a5a8e7   has status   DONE\n",
      "INFO: [pid 32184] Worker Worker(salt=032422033, workers=1, pid=32184) running   FetchLoremIpsum(file_index=3, slow=False)\n",
      "INFO: [pid 32184] Worker Worker(salt=032422033, workers=1, pid=32184) done      FetchLoremIpsum(file_index=3, slow=False)\n",
      "INFO: Informed scheduler that task   FetchLoremIpsum_3_False_21e31eaf1d   has status   DONE\n",
      "INFO: [pid 32184] Worker Worker(salt=032422033, workers=1, pid=32184) running   CountChars(file_index=3, slow=False)\n",
      "INFO: [pid 32184] Worker Worker(salt=032422033, workers=1, pid=32184) done      CountChars(file_index=3, slow=False)\n",
      "INFO: Informed scheduler that task   CountChars_3_False_21e31eaf1d   has status   DONE\n",
      "INFO: [pid 32184] Worker Worker(salt=032422033, workers=1, pid=32184) running   FetchLoremIpsum(file_index=2, slow=False)\n",
      "INFO: [pid 32184] Worker Worker(salt=032422033, workers=1, pid=32184) done      FetchLoremIpsum(file_index=2, slow=False)\n",
      "INFO: Informed scheduler that task   FetchLoremIpsum_2_False_5579299431   has status   DONE\n",
      "INFO: [pid 32184] Worker Worker(salt=032422033, workers=1, pid=32184) running   CountChars(file_index=2, slow=False)\n",
      "INFO: [pid 32184] Worker Worker(salt=032422033, workers=1, pid=32184) done      CountChars(file_index=2, slow=False)\n",
      "INFO: Informed scheduler that task   CountChars_2_False_5579299431   has status   DONE\n",
      "INFO: [pid 32184] Worker Worker(salt=032422033, workers=1, pid=32184) running   FetchLoremIpsum(file_index=1, slow=False)\n",
      "INFO: [pid 32184] Worker Worker(salt=032422033, workers=1, pid=32184) done      FetchLoremIpsum(file_index=1, slow=False)\n",
      "INFO: Informed scheduler that task   FetchLoremIpsum_1_False_50b924af96   has status   DONE\n",
      "INFO: [pid 32184] Worker Worker(salt=032422033, workers=1, pid=32184) running   CountChars(file_index=1, slow=False)\n",
      "INFO: [pid 32184] Worker Worker(salt=032422033, workers=1, pid=32184) done      CountChars(file_index=1, slow=False)\n",
      "INFO: Informed scheduler that task   CountChars_1_False_50b924af96   has status   DONE\n",
      "INFO: [pid 32184] Worker Worker(salt=032422033, workers=1, pid=32184) running   MergeCounts(slow=False)\n",
      "INFO: [pid 32184] Worker Worker(salt=032422033, workers=1, pid=32184) done      MergeCounts(slow=False)\n",
      "INFO: Informed scheduler that task   MergeCounts_False_9ba313c494   has status   DONE\n",
      "INFO: [pid 32184] Worker Worker(salt=032422033, workers=1, pid=32184) running   ShowFrequencies(slow=False)\n",
      "e: \u001b[0;49;32mxxxxxxxxxxxxxxxxxx\u001b[0m 9%\n",
      "a: \u001b[0;49;32mxxxxxxxxxxxxxxxx\u001b[0m 8%\n",
      "i: \u001b[0;49;32mxxxxxxxxxxxxxxxx\u001b[0m 8%\n",
      "o: \u001b[0;49;32mxxxxxxxxxxxxxxxx\u001b[0m 8%\n",
      "u: \u001b[0;49;32mxxxxxxxxxxxxxx\u001b[0m 7%\n",
      "t: \u001b[0;49;32mxxxxxxxxxxxxxx\u001b[0m 7%\n",
      "s: \u001b[0;49;33mxxxxxxxxxxxx\u001b[0m 6%\n",
      "n: \u001b[0;49;33mxxxxxxxxxx\u001b[0m 5%\n",
      "r: \u001b[0;49;33mxxxxxxxxxx\u001b[0m 5%\n",
      "m: \u001b[0;49;33mxxxxxxxx\u001b[0m 4%\n",
      "l: \u001b[0;49;33mxxxxxxxx\u001b[0m 4%\n",
      "c: \u001b[0;49;31mxxxxxx\u001b[0m 3%\n",
      "d: \u001b[0;49;31mxxxxxx\u001b[0m 3%\n",
      "p: \u001b[0;49;31mxxxxxx\u001b[0m 3%\n",
      "g: \u001b[0;49;31mxxxx\u001b[0m 2%\n",
      "b: \u001b[0;49;31mxx\u001b[0m 1%\n",
      "h: \u001b[0;49;31mxx\u001b[0m 1%\n",
      "k: \u001b[0;49;31mxx\u001b[0m 1%\n",
      "w: \u001b[0;49;31mxx\u001b[0m 1%\n",
      "f: \u001b[0;49;39m-\u001b[0m 0%\n",
      "j: \u001b[0;49;39m-\u001b[0m 0%\n",
      "q: \u001b[0;49;39m-\u001b[0m 0%\n",
      "v: \u001b[0;49;39m-\u001b[0m 0%\n",
      "y: \u001b[0;49;39m-\u001b[0m 0%\n",
      "x: \u001b[0;49;39m-\u001b[0m 0%\n",
      "z: \u001b[0;49;39m-\u001b[0m 0%\n",
      "INFO: [pid 32184] Worker Worker(salt=032422033, workers=1, pid=32184) done      ShowFrequencies(slow=False)\n",
      "INFO: Informed scheduler that task   ShowFrequencies_False_9ba313c494   has status   DONE\n",
      "INFO: Worker Worker(salt=032422033, workers=1, pid=32184) was stopped. Shutting down Keep-Alive thread\n",
      "INFO: \n",
      "===== Luigi Execution Summary =====\n",
      "\n",
      "Scheduled 14 tasks of which:\n",
      "* 14 ran successfully:\n",
      "    - 6 CountChars(...)\n",
      "    - 6 FetchLoremIpsum(...)\n",
      "    - 1 MergeCounts(...)\n",
      "    - 1 ShowFrequencies(...)\n",
      "\n",
      "This progress looks :) because there were no failed tasks or missing dependencies\n",
      "\n",
      "===== Luigi Execution Summary =====\n",
      "\n"
     ]
    }
   ],
   "source": [
    "%law run ShowFrequencies"
   ]
  },
  {
   "cell_type": "markdown",
   "metadata": {},
   "source": [
    "The task execution should be successful within a few seconds. You can scroll through the output and read the logs to get a sense of the way luigi is building up the dependency tree, followed by the scheduling of tasks, and eventually closing with an execution summary.\n",
    "\n",
    "Also, you might want to add the ``--slow`` parameter to make the tasks somewhat slower in order to see the progress logs appearing in the output. This is of course not a feature of law, but only implemented by the tasks in this example 😉."
   ]
  },
  {
   "cell_type": "markdown",
   "metadata": {},
   "source": [
    "### 4. Check the status again"
   ]
  },
  {
   "cell_type": "markdown",
   "metadata": {},
   "source": [
    "As above, we add `--print-status -1` again, to see the task status, represented by the existence of their output targets."
   ]
  },
  {
   "cell_type": "code",
   "execution_count": 8,
   "metadata": {},
   "outputs": [
    {
     "name": "stdout",
     "output_type": "stream",
     "text": [
      "print task status with max_depth -1 and target_depth 0\n",
      "\n",
      "> check status of \u001b[0;49;32mShowFrequencies\u001b[0m(\u001b[1;49;34mslow\u001b[0m=False)\n",
      "|   \n",
      "|   > check status of \u001b[0;49;32mMergeCounts\u001b[0m(\u001b[1;49;34mslow\u001b[0m=False)\n",
      "|   |   - \u001b[0;49;36mLocalFileTarget\u001b[0m(\u001b[1;49;34mpath\u001b[0m=/law/examples/loremipsum/data/chars_merged.json)\n",
      "|   |     \u001b[1;49;32mexistent\u001b[0m\n",
      "|   |   \n",
      "|   |   > check status of \u001b[0;49;32mCountChars\u001b[0m(\u001b[1;49;34mfile_index\u001b[0m=1, \u001b[1;49;34mslow\u001b[0m=False)\n",
      "|   |   |   - \u001b[0;49;36mLocalFileTarget\u001b[0m(\u001b[1;49;34mpath\u001b[0m=/law/examples/loremipsum/data/chars_1.json)\n",
      "|   |   |     \u001b[1;49;32mexistent\u001b[0m\n",
      "|   |   |   \n",
      "|   |   |   > check status of \u001b[0;49;32mFetchLoremIpsum\u001b[0m(\u001b[1;49;34mfile_index\u001b[0m=1, \u001b[1;49;34mslow\u001b[0m=False)\n",
      "|   |   |   |   - \u001b[0;49;36mLocalFileTarget\u001b[0m(\u001b[1;49;34mpath\u001b[0m=/law/examples/loremipsum/data/loremipsum_1.txt)\n",
      "|   |   |   |     \u001b[1;49;32mexistent\u001b[0m\n",
      "|   |   \n",
      "|   |   > check status of \u001b[0;49;32mCountChars\u001b[0m(\u001b[1;49;34mfile_index\u001b[0m=2, \u001b[1;49;34mslow\u001b[0m=False)\n",
      "|   |   |   - \u001b[0;49;36mLocalFileTarget\u001b[0m(\u001b[1;49;34mpath\u001b[0m=/law/examples/loremipsum/data/chars_2.json)\n",
      "|   |   |     \u001b[1;49;32mexistent\u001b[0m\n",
      "|   |   |   \n",
      "|   |   |   > check status of \u001b[0;49;32mFetchLoremIpsum\u001b[0m(\u001b[1;49;34mfile_index\u001b[0m=2, \u001b[1;49;34mslow\u001b[0m=False)\n",
      "|   |   |   |   - \u001b[0;49;36mLocalFileTarget\u001b[0m(\u001b[1;49;34mpath\u001b[0m=/law/examples/loremipsum/data/loremipsum_2.txt)\n",
      "|   |   |   |     \u001b[1;49;32mexistent\u001b[0m\n",
      "|   |   \n",
      "|   |   > check status of \u001b[0;49;32mCountChars\u001b[0m(\u001b[1;49;34mfile_index\u001b[0m=3, \u001b[1;49;34mslow\u001b[0m=False)\n",
      "|   |   |   - \u001b[0;49;36mLocalFileTarget\u001b[0m(\u001b[1;49;34mpath\u001b[0m=/law/examples/loremipsum/data/chars_3.json)\n",
      "|   |   |     \u001b[1;49;32mexistent\u001b[0m\n",
      "|   |   |   \n",
      "|   |   |   > check status of \u001b[0;49;32mFetchLoremIpsum\u001b[0m(\u001b[1;49;34mfile_index\u001b[0m=3, \u001b[1;49;34mslow\u001b[0m=False)\n",
      "|   |   |   |   - \u001b[0;49;36mLocalFileTarget\u001b[0m(\u001b[1;49;34mpath\u001b[0m=/law/examples/loremipsum/data/loremipsum_3.txt)\n",
      "|   |   |   |     \u001b[1;49;32mexistent\u001b[0m\n",
      "|   |   \n",
      "|   |   > check status of \u001b[0;49;32mCountChars\u001b[0m(\u001b[1;49;34mfile_index\u001b[0m=4, \u001b[1;49;34mslow\u001b[0m=False)\n",
      "|   |   |   - \u001b[0;49;36mLocalFileTarget\u001b[0m(\u001b[1;49;34mpath\u001b[0m=/law/examples/loremipsum/data/chars_4.json)\n",
      "|   |   |     \u001b[1;49;32mexistent\u001b[0m\n",
      "|   |   |   \n",
      "|   |   |   > check status of \u001b[0;49;32mFetchLoremIpsum\u001b[0m(\u001b[1;49;34mfile_index\u001b[0m=4, \u001b[1;49;34mslow\u001b[0m=False)\n",
      "|   |   |   |   - \u001b[0;49;36mLocalFileTarget\u001b[0m(\u001b[1;49;34mpath\u001b[0m=/law/examples/loremipsum/data/loremipsum_4.txt)\n",
      "|   |   |   |     \u001b[1;49;32mexistent\u001b[0m\n",
      "|   |   \n",
      "|   |   > check status of \u001b[0;49;32mCountChars\u001b[0m(\u001b[1;49;34mfile_index\u001b[0m=5, \u001b[1;49;34mslow\u001b[0m=False)\n",
      "|   |   |   - \u001b[0;49;36mLocalFileTarget\u001b[0m(\u001b[1;49;34mpath\u001b[0m=/law/examples/loremipsum/data/chars_5.json)\n",
      "|   |   |     \u001b[1;49;32mexistent\u001b[0m\n",
      "|   |   |   \n",
      "|   |   |   > check status of \u001b[0;49;32mFetchLoremIpsum\u001b[0m(\u001b[1;49;34mfile_index\u001b[0m=5, \u001b[1;49;34mslow\u001b[0m=False)\n",
      "|   |   |   |   - \u001b[0;49;36mLocalFileTarget\u001b[0m(\u001b[1;49;34mpath\u001b[0m=/law/examples/loremipsum/data/loremipsum_5.txt)\n",
      "|   |   |   |     \u001b[1;49;32mexistent\u001b[0m\n",
      "|   |   \n",
      "|   |   > check status of \u001b[0;49;32mCountChars\u001b[0m(\u001b[1;49;34mfile_index\u001b[0m=6, \u001b[1;49;34mslow\u001b[0m=False)\n",
      "|   |   |   - \u001b[0;49;36mLocalFileTarget\u001b[0m(\u001b[1;49;34mpath\u001b[0m=/law/examples/loremipsum/data/chars_6.json)\n",
      "|   |   |     \u001b[1;49;32mexistent\u001b[0m\n",
      "|   |   |   \n",
      "|   |   |   > check status of \u001b[0;49;32mFetchLoremIpsum\u001b[0m(\u001b[1;49;34mfile_index\u001b[0m=6, \u001b[1;49;34mslow\u001b[0m=False)\n",
      "|   |   |   |   - \u001b[0;49;36mLocalFileTarget\u001b[0m(\u001b[1;49;34mpath\u001b[0m=/law/examples/loremipsum/data/loremipsum_6.txt)\n",
      "|   |   |   |     \u001b[1;49;32mexistent\u001b[0m\n"
     ]
    }
   ],
   "source": [
    "%law run ShowFrequencies --print-status -1"
   ]
  },
  {
   "cell_type": "markdown",
   "metadata": {},
   "source": [
    "Note that the `ShowFrequencies` task itself has no outputs. It is run **once**, but every time it is invoked, independent of the presence of a persistent file. The other tasks do have outputs, which we are going to delete in the next step."
   ]
  },
  {
   "cell_type": "markdown",
   "metadata": {},
   "source": [
    "### 5. Remove outputs interactively"
   ]
  },
  {
   "cell_type": "markdown",
   "metadata": {},
   "source": [
    "As mentioned above, another interactive parameter to pass to `law run` commands is `--remove-output`. The passed value is interpreted as the recursion depth of dependent tasks whose output should be removed as well.\n",
    "\n",
    "However, in order to avoid removing files by mistake, law interactively asks for confirmation before irreversibly removing anything. The prompt looks like this:\n",
    "\n",
    "```shell\n",
    "> law run ShowFrequencies --remove-output N\n",
    "\n",
    "remove task output with max_depth N\n",
    "removal mode? [i*(interactive), d(dry), a(all)]\n",
    "```\n",
    "\n",
    "The default mode (marked with \\*) is *interactive* (type 'i'), which means that law traverses the task tree interactively and asks for confirmation on every target. *dry* mode (type 'd') traverses the tree without actually removing anything. The *all* mode should be handled with care. Once you type 'a', the outputs of all tasks down to the requested recursion depth are removed.\n",
    "\n",
    "To avoid interactive prompts in this example notebook, you can either do (though **not** recommended)\n",
    "\n",
    "```shell\n",
    "> echo a | law run ShowFrequencies --remove-output N\n",
    "```\n",
    "\n",
    "or add the mode with a comma to the value of the `--remove-output` parameter. Here, we only want to remove the outputs down to the `CountChars` task, i.e., at a depth of 2 (see the task tree above in the `--print-status` outputs). This way, the `FetchLoremIpsum` outputs are preserved."
   ]
  },
  {
   "cell_type": "code",
   "execution_count": 9,
   "metadata": {},
   "outputs": [
    {
     "name": "stdout",
     "output_type": "stream",
     "text": [
      "remove task output with max_depth 2\n",
      "selected \u001b[1;49;34mall mode\u001b[0m\n",
      "\n",
      "> remove output of \u001b[0;49;32mShowFrequencies\u001b[0m(\u001b[1;49;34mslow\u001b[0m=False)\n",
      "|   \n",
      "|   > remove output of \u001b[0;49;32mMergeCounts\u001b[0m(\u001b[1;49;34mslow\u001b[0m=False)\n",
      "|   |   - \u001b[0;49;36mLocalFileTarget\u001b[0m(\u001b[1;49;34mpath\u001b[0m=/law/examples/loremipsum/data/chars_merged.json)\n",
      "|   |     \u001b[1;49;31mremoved\u001b[0m\n",
      "|   |   \n",
      "|   |   > remove output of \u001b[0;49;32mCountChars\u001b[0m(\u001b[1;49;34mfile_index\u001b[0m=1, \u001b[1;49;34mslow\u001b[0m=False)\n",
      "|   |   |   - \u001b[0;49;36mLocalFileTarget\u001b[0m(\u001b[1;49;34mpath\u001b[0m=/law/examples/loremipsum/data/chars_1.json)\n",
      "|   |   |     \u001b[1;49;31mremoved\u001b[0m\n",
      "|   |   \n",
      "|   |   > remove output of \u001b[0;49;32mCountChars\u001b[0m(\u001b[1;49;34mfile_index\u001b[0m=2, \u001b[1;49;34mslow\u001b[0m=False)\n",
      "|   |   |   - \u001b[0;49;36mLocalFileTarget\u001b[0m(\u001b[1;49;34mpath\u001b[0m=/law/examples/loremipsum/data/chars_2.json)\n",
      "|   |   |     \u001b[1;49;31mremoved\u001b[0m\n",
      "|   |   \n",
      "|   |   > remove output of \u001b[0;49;32mCountChars\u001b[0m(\u001b[1;49;34mfile_index\u001b[0m=3, \u001b[1;49;34mslow\u001b[0m=False)\n",
      "|   |   |   - \u001b[0;49;36mLocalFileTarget\u001b[0m(\u001b[1;49;34mpath\u001b[0m=/law/examples/loremipsum/data/chars_3.json)\n",
      "|   |   |     \u001b[1;49;31mremoved\u001b[0m\n",
      "|   |   \n",
      "|   |   > remove output of \u001b[0;49;32mCountChars\u001b[0m(\u001b[1;49;34mfile_index\u001b[0m=4, \u001b[1;49;34mslow\u001b[0m=False)\n",
      "|   |   |   - \u001b[0;49;36mLocalFileTarget\u001b[0m(\u001b[1;49;34mpath\u001b[0m=/law/examples/loremipsum/data/chars_4.json)\n",
      "|   |   |     \u001b[1;49;31mremoved\u001b[0m\n",
      "|   |   \n",
      "|   |   > remove output of \u001b[0;49;32mCountChars\u001b[0m(\u001b[1;49;34mfile_index\u001b[0m=5, \u001b[1;49;34mslow\u001b[0m=False)\n",
      "|   |   |   - \u001b[0;49;36mLocalFileTarget\u001b[0m(\u001b[1;49;34mpath\u001b[0m=/law/examples/loremipsum/data/chars_5.json)\n",
      "|   |   |     \u001b[1;49;31mremoved\u001b[0m\n",
      "|   |   \n",
      "|   |   > remove output of \u001b[0;49;32mCountChars\u001b[0m(\u001b[1;49;34mfile_index\u001b[0m=6, \u001b[1;49;34mslow\u001b[0m=False)\n",
      "|   |   |   - \u001b[0;49;36mLocalFileTarget\u001b[0m(\u001b[1;49;34mpath\u001b[0m=/law/examples/loremipsum/data/chars_6.json)\n",
      "|   |   |     \u001b[1;49;31mremoved\u001b[0m\n"
     ]
    }
   ],
   "source": [
    "%law run ShowFrequencies --remove-output 2,a"
   ]
  },
  {
   "cell_type": "markdown",
   "metadata": {},
   "source": [
    "Verify your action by printing the status of, let's say, the first `CountChars` task."
   ]
  },
  {
   "cell_type": "code",
   "execution_count": 10,
   "metadata": {},
   "outputs": [
    {
     "name": "stdout",
     "output_type": "stream",
     "text": [
      "print task status with max_depth -1 and target_depth 0\n",
      "\n",
      "> check status of \u001b[0;49;32mCountChars\u001b[0m(\u001b[1;49;34mfile_index\u001b[0m=1, \u001b[1;49;34mslow\u001b[0m=False)\n",
      "|   - \u001b[0;49;36mLocalFileTarget\u001b[0m(\u001b[1;49;34mpath\u001b[0m=/law/examples/loremipsum/data/chars_1.json)\n",
      "|     \u001b[1;49;31mabsent\u001b[0m\n",
      "|   \n",
      "|   > check status of \u001b[0;49;32mFetchLoremIpsum\u001b[0m(\u001b[1;49;34mfile_index\u001b[0m=1, \u001b[1;49;34mslow\u001b[0m=False)\n",
      "|   |   - \u001b[0;49;36mLocalFileTarget\u001b[0m(\u001b[1;49;34mpath\u001b[0m=/law/examples/loremipsum/data/loremipsum_1.txt)\n",
      "|   |     \u001b[1;49;32mexistent\u001b[0m\n"
     ]
    }
   ],
   "source": [
    "%law run CountChars --file-index 1 --print-status -1"
   ]
  }
 ],
 "metadata": {
  "kernelspec": {
   "display_name": "Python 3",
   "language": "python",
   "name": "python3"
  },
  "language_info": {
   "codemirror_mode": {
    "name": "ipython",
    "version": 3
   },
   "file_extension": ".py",
   "mimetype": "text/x-python",
   "name": "python",
   "nbconvert_exporter": "python",
   "pygments_lexer": "ipython3",
   "version": "3.6.8"
  },
  "rise": {
   "backimage": "https://cernbox.cern.ch/index.php/s/xDYiSmbleT3rip4/download?path=%2Fintro%2Fimages&files=logo.png",
   "controls": false,
   "footer": "&nbsp; 3rd IML Workshop | Marcel Rieger | Physics-Inspired Feature Engineering",
   "scroll": true
  }
 },
 "nbformat": 4,
 "nbformat_minor": 2
}
